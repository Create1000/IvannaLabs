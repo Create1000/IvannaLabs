{
 "cells": [
  {
   "cell_type": "markdown",
   "id": "ba64a208",
   "metadata": {},
   "source": [
    "### Hypothesis Testing"
   ]
  },
  {
   "cell_type": "markdown",
   "id": "2bfed92e",
   "metadata": {},
   "source": [
    "In a packing plant, a machine packs cartons with jars. It is supposed that a new machine will pack faster on the average than the machine currently used. To test that hypothesis, the times it takes each machine to pack ten cartons are recorded. The results, in seconds, are shown in the tables in the file Data/machine.txt. Assume that there is sufficient evidence to conduct the t test, does the data provide sufficient evidence to show if one machine is better than the other.\n",
    "Hint: use two sample t-test\n",
    "\n",
    "t= (sample_mean(x1) - sample_mean(x2)) / sqrt(square(s1)/n1 + square(s2)/n2 )"
   ]
  },
  {
   "cell_type": "code",
   "execution_count": 1,
   "id": "58d0e706",
   "metadata": {},
   "outputs": [],
   "source": [
    "import numpy as np\n",
    "import pandas as pd\n",
    "import scipy.stats as stats\n",
    "import statsmodels.stats.api as sms\n",
    "import matplotlib as mpl\n",
    "import matplotlib.pyplot as plt\n",
    "import seaborn as sns\n",
    "from math import ceil\n",
    "%matplotlib inline"
   ]
  },
  {
   "cell_type": "markdown",
   "id": "3c460c31",
   "metadata": {},
   "source": [
    "#### Defining our hypothesis"
   ]
  },
  {
   "cell_type": "markdown",
   "id": "fb6dd907",
   "metadata": {},
   "source": [
    "Ho: CR0 = CR1\n",
    "Ha: CR0 != CR1\n",
    "\n",
    "(Two-tailed test)"
   ]
  },
  {
   "cell_type": "code",
   "execution_count": 2,
   "id": "117fe5ca",
   "metadata": {},
   "outputs": [],
   "source": [
    "df= pd.read_csv('Data_Machine.txt')"
   ]
  },
  {
   "cell_type": "code",
   "execution_count": 3,
   "id": "cd8c35b8",
   "metadata": {},
   "outputs": [
    {
     "name": "stdout",
     "output_type": "stream",
     "text": [
      "  New Machine\\t  Old Machine\n",
      "0         42.1\\t        42.7\n",
      "1         41\\t          43.6\n",
      "2         41.3\\t        43.8\n",
      "3         41.8\\t        43.3\n",
      "4         42.4\\t        42.5\n",
      "5         42.8\\t        43.5\n",
      "6         43.2\\t        43.1\n",
      "7         42.3\\t        41.7\n",
      "8           41.8\\t        44\n",
      "9         42.7\\t        44.1\n"
     ]
    }
   ],
   "source": [
    "print(df)"
   ]
  },
  {
   "cell_type": "code",
   "execution_count": 4,
   "id": "bcf476c6",
   "metadata": {},
   "outputs": [],
   "source": [
    "New_Machine = [42.1,41,41.3,41.8,42.4,42.8,43.2,42.3,41.8,42.7]\n",
    "Old_Machine = [42.7,43.6,43.8,43.3,42.5,43.5,43.1,41.7,44,44.1]"
   ]
  },
  {
   "cell_type": "code",
   "execution_count": 5,
   "id": "50d8c713",
   "metadata": {},
   "outputs": [],
   "source": [
    "mean_new = np.average(New_Machine)"
   ]
  },
  {
   "cell_type": "code",
   "execution_count": 6,
   "id": "78f59cb3",
   "metadata": {},
   "outputs": [
    {
     "name": "stdout",
     "output_type": "stream",
     "text": [
      "42.14\n"
     ]
    }
   ],
   "source": [
    "print(mean_new)"
   ]
  },
  {
   "cell_type": "code",
   "execution_count": 7,
   "id": "616296e1",
   "metadata": {},
   "outputs": [],
   "source": [
    "mean_old = np.average(Old_Machine)"
   ]
  },
  {
   "cell_type": "code",
   "execution_count": 8,
   "id": "818bf9cf",
   "metadata": {},
   "outputs": [
    {
     "name": "stdout",
     "output_type": "stream",
     "text": [
      "43.230000000000004\n"
     ]
    }
   ],
   "source": [
    "print(mean_old)"
   ]
  },
  {
   "cell_type": "code",
   "execution_count": 9,
   "id": "fe2f1694",
   "metadata": {},
   "outputs": [],
   "source": [
    "std_dev_new = np.std(New_Machine)"
   ]
  },
  {
   "cell_type": "code",
   "execution_count": 10,
   "id": "b77041ef",
   "metadata": {},
   "outputs": [
    {
     "name": "stdout",
     "output_type": "stream",
     "text": [
      "0.6483826030978941\n"
     ]
    }
   ],
   "source": [
    "print(std_dev_new)"
   ]
  },
  {
   "cell_type": "code",
   "execution_count": 11,
   "id": "9853ff99",
   "metadata": {},
   "outputs": [],
   "source": [
    "std_dev_old = np.std(Old_Machine)"
   ]
  },
  {
   "cell_type": "code",
   "execution_count": 12,
   "id": "c68a0bb5",
   "metadata": {},
   "outputs": [
    {
     "name": "stdout",
     "output_type": "stream",
     "text": [
      "0.7114070564732956\n"
     ]
    }
   ],
   "source": [
    "print(std_dev_old)"
   ]
  },
  {
   "cell_type": "markdown",
   "id": "51fa1e8d",
   "metadata": {},
   "source": [
    "###### As we can see, the New Mean != Old Mean.\n",
    "###### Now, we have to prove that this difference is significant."
   ]
  },
  {
   "cell_type": "code",
   "execution_count": 17,
   "id": "899dfe02",
   "metadata": {},
   "outputs": [
    {
     "name": "stdout",
     "output_type": "stream",
     "text": [
      "The critical value is = 2.10092204024096\n",
      "t-score = 3.5809955894645813\n"
     ]
    }
   ],
   "source": [
    "tc = stats.t.ppf(0.975, df=18)\n",
    "print(\"The critical value is =\", tc)\n",
    "\n",
    "n1 = len(New_Machine)\n",
    "n2 = len(Old_Machine)\n",
    "t_score = (mean_old - mean_new) / np.sqrt(np.square(std_dev_old)/n1 + np.square(std_dev_new)/n2)\n",
    "print(\"t-score =\", t_score)"
   ]
  },
  {
   "cell_type": "markdown",
   "id": "94a560f5",
   "metadata": {},
   "source": [
    "##### p-value possibility"
   ]
  },
  {
   "cell_type": "code",
   "execution_count": 19,
   "id": "d5b2e6db",
   "metadata": {},
   "outputs": [
    {
     "name": "stdout",
     "output_type": "stream",
     "text": [
      "p-value = 0.002135586803387657\n"
     ]
    }
   ],
   "source": [
    "\n",
    "df = n1 + n2 - 2\n",
    "p_value = 2 * (1 - stats.t.cdf(abs(t_score), df=df))\n",
    "print(\"p-value =\", p_value)"
   ]
  },
  {
   "cell_type": "code",
   "execution_count": null,
   "id": "63faa601",
   "metadata": {},
   "outputs": [],
   "source": [
    " ## p-value is less than the significance level of 0.05, we can reject the null hypothesis."
   ]
  }
 ],
 "metadata": {
  "kernelspec": {
   "display_name": "Python 3 (ipykernel)",
   "language": "python",
   "name": "python3"
  },
  "language_info": {
   "codemirror_mode": {
    "name": "ipython",
    "version": 3
   },
   "file_extension": ".py",
   "mimetype": "text/x-python",
   "name": "python",
   "nbconvert_exporter": "python",
   "pygments_lexer": "ipython3",
   "version": "3.10.9"
  }
 },
 "nbformat": 4,
 "nbformat_minor": 5
}
