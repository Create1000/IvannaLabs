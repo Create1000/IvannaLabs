{
 "cells": [
  {
   "cell_type": "code",
   "execution_count": 1,
   "id": "bbdf5b69",
   "metadata": {},
   "outputs": [],
   "source": [
    "#Import the numpy package under the name np\n",
    "import numpy as np"
   ]
  },
  {
   "cell_type": "code",
   "execution_count": 2,
   "id": "83cfbc3e",
   "metadata": {},
   "outputs": [
    {
     "name": "stdout",
     "output_type": "stream",
     "text": [
      "[0. 0. 0. 0. 0. 0. 0. 0. 0. 0.]\n"
     ]
    }
   ],
   "source": [
    "# Create a null vector of size 10 \n",
    "def null_array(n):\n",
    "    x=np.zeros(n)\n",
    "    return x\n",
    "print(null_array(10))"
   ]
  },
  {
   "cell_type": "code",
   "execution_count": 3,
   "id": "337e9054",
   "metadata": {},
   "outputs": [
    {
     "name": "stdout",
     "output_type": "stream",
     "text": [
      "[0. 0. 0. 0. 1. 0. 0. 0. 0. 0.]\n"
     ]
    }
   ],
   "source": [
    "#Create a null vector of size 10 but the fifth value which is 1 \n",
    "def null_array(n):\n",
    "    x=np.zeros(n)\n",
    "    x[4] = 1\n",
    "    return x\n",
    "print(null_array(10))"
   ]
  },
  {
   "cell_type": "code",
   "execution_count": 4,
   "id": "678221a0",
   "metadata": {},
   "outputs": [
    {
     "name": "stdout",
     "output_type": "stream",
     "text": [
      "[10 11 12 13 14 15 16 17 18 19 20 21 22 23 24 25 26 27 28 29 30 31 32 33\n",
      " 34 35 36 37 38 39 40 41 42 43 44 45 46 47 48 49]\n"
     ]
    }
   ],
   "source": [
    "#Create a vector with values ranging from 10 to 49 \n",
    "x = np.arange(10,50)\n",
    "print(x)"
   ]
  },
  {
   "cell_type": "code",
   "execution_count": 5,
   "id": "cf11085c",
   "metadata": {},
   "outputs": [
    {
     "name": "stdout",
     "output_type": "stream",
     "text": [
      "[[0 1 2]\n",
      " [3 4 5]\n",
      " [6 7 8]]\n"
     ]
    }
   ],
   "source": [
    "#Create a 3x3 matrix with values ranging from 0 to 8\n",
    "x =  np.arange(0, 9).reshape(3,3)\n",
    "print(x)"
   ]
  },
  {
   "cell_type": "code",
   "execution_count": 14,
   "id": "d0feede7",
   "metadata": {},
   "outputs": [
    {
     "name": "stdout",
     "output_type": "stream",
     "text": [
      "[0 1 4]\n"
     ]
    }
   ],
   "source": [
    "#Find indices of non-zero elements from [1,2,0,0,4,0]\n",
    "x = np.array([1,2,0,0,4,0])\n",
    "nonzero_indices = np.nonzero(x)[0]\n",
    "print(nonzero_indices)"
   ]
  },
  {
   "cell_type": "code",
   "execution_count": 19,
   "id": "66ca9c9d",
   "metadata": {},
   "outputs": [
    {
     "name": "stdout",
     "output_type": "stream",
     "text": [
      "(array([0, 1, 4], dtype=int64),)\n"
     ]
    }
   ],
   "source": [
    "#Find indices of non-zero elements from [1,2,0,0,4,0]\n",
    "x = np.array([1,2,0,0,4,0])\n",
    "x1 =np.nonzero(x)\n",
    "print(x1)"
   ]
  },
  {
   "cell_type": "code",
   "execution_count": 25,
   "id": "58608507",
   "metadata": {},
   "outputs": [
    {
     "name": "stdout",
     "output_type": "stream",
     "text": [
      "[[1. 0. 0.]\n",
      " [0. 1. 0.]\n",
      " [0. 0. 1.]]\n"
     ]
    }
   ],
   "source": [
    "#Create a 3x3 identity matrix \n",
    "y = np.eye(3)\n",
    "print(y)"
   ]
  },
  {
   "cell_type": "code",
   "execution_count": 26,
   "id": "05faf8e3",
   "metadata": {},
   "outputs": [
    {
     "name": "stdout",
     "output_type": "stream",
     "text": [
      "[[[0.13743513 0.35122683 0.23168073]\n",
      "  [0.05309719 0.17582937 0.55708572]\n",
      "  [0.00320172 0.42345539 0.16198017]]\n",
      "\n",
      " [[0.02808408 0.65052783 0.28215541]\n",
      "  [0.46611942 0.80671451 0.85549862]\n",
      "  [0.1772603  0.94774054 0.90800678]]\n",
      "\n",
      " [[0.84598495 0.18366014 0.14134205]\n",
      "  [0.47238817 0.6431706  0.438659  ]\n",
      "  [0.99438965 0.66076091 0.68751523]]]\n"
     ]
    }
   ],
   "source": [
    "#Create a 3x3x3 array with random values\n",
    "x = np.random.random((3,3,3))\n",
    "print(x)"
   ]
  },
  {
   "cell_type": "code",
   "execution_count": 3,
   "id": "da41cb1d",
   "metadata": {},
   "outputs": [
    {
     "ename": "NameError",
     "evalue": "name 'np' is not defined",
     "output_type": "error",
     "traceback": [
      "\u001b[1;31m---------------------------------------------------------------------------\u001b[0m",
      "\u001b[1;31mNameError\u001b[0m                                 Traceback (most recent call last)",
      "Cell \u001b[1;32mIn[3], line 2\u001b[0m\n\u001b[0;32m      1\u001b[0m \u001b[38;5;66;03m#Create a 10x10 array with random values and find the minimum and maximum values\u001b[39;00m\n\u001b[1;32m----> 2\u001b[0m x \u001b[38;5;241m=\u001b[39m \u001b[43mnp\u001b[49m\u001b[38;5;241m.\u001b[39mrandom\u001b[38;5;241m.\u001b[39mrandom((\u001b[38;5;241m10\u001b[39m,\u001b[38;5;241m10\u001b[39m,\u001b[38;5;241m10\u001b[39m))\n\u001b[0;32m      3\u001b[0m \u001b[38;5;28mprint\u001b[39m(\u001b[38;5;124m\"\u001b[39m\u001b[38;5;124mOriginal Array:\u001b[39m\u001b[38;5;124m\"\u001b[39m)\n\u001b[0;32m      4\u001b[0m \u001b[38;5;28mprint\u001b[39m(x) \n",
      "\u001b[1;31mNameError\u001b[0m: name 'np' is not defined"
     ]
    }
   ],
   "source": [
    "#Create a 10x10 array with random values and find the minimum and maximum values\n",
    "x = np.random.random((10,10,10))\n",
    "print(\"Original Array:\")\n",
    "print(x) \n",
    "xmin, xmax = x.min(), x.max()\n",
    "print(\"Minimum and Maximum Values:\")\n",
    "print(xmin, xmax)"
   ]
  },
  {
   "cell_type": "code",
   "execution_count": 4,
   "id": "88429664",
   "metadata": {},
   "outputs": [
    {
     "ename": "NameError",
     "evalue": "name 'np' is not defined",
     "output_type": "error",
     "traceback": [
      "\u001b[1;31m---------------------------------------------------------------------------\u001b[0m",
      "\u001b[1;31mNameError\u001b[0m                                 Traceback (most recent call last)",
      "Cell \u001b[1;32mIn[4], line 2\u001b[0m\n\u001b[0;32m      1\u001b[0m \u001b[38;5;66;03m#Create a random vector of size 30 and find the mean value\u001b[39;00m\n\u001b[1;32m----> 2\u001b[0m x \u001b[38;5;241m=\u001b[39m \u001b[43mnp\u001b[49m\u001b[38;5;241m.\u001b[39mrandom\u001b[38;5;241m.\u001b[39mrandom(\u001b[38;5;241m30\u001b[39m)\n\u001b[0;32m      3\u001b[0m mean_value \u001b[38;5;241m=\u001b[39m np\u001b[38;5;241m.\u001b[39mmean(x)\n\u001b[0;32m      5\u001b[0m \u001b[38;5;28mprint\u001b[39m(x)\n",
      "\u001b[1;31mNameError\u001b[0m: name 'np' is not defined"
     ]
    }
   ],
   "source": [
    "#Create a random vector of size 30 and find the mean value\n",
    "x = np.random.random(30)\n",
    "mean_value = np.mean(x)\n",
    "\n",
    "print(x)\n",
    "print(\"Mean value:\", mean_value)"
   ]
  },
  {
   "cell_type": "code",
   "execution_count": 13,
   "id": "c00870f8",
   "metadata": {},
   "outputs": [
    {
     "name": "stdout",
     "output_type": "stream",
     "text": [
      "[[0 0 0 0 0]\n",
      " [1 0 0 0 0]\n",
      " [0 2 0 0 0]\n",
      " [0 0 3 0 0]\n",
      " [0 0 0 4 0]]\n"
     ]
    }
   ],
   "source": [
    "#Create a 5x5 matrix with values 1,2,3,4 just below the diagonal \n",
    "x = np.diag([1, 2, 3, 4],k=-1)\n",
    "print(x)"
   ]
  },
  {
   "cell_type": "code",
   "execution_count": 14,
   "id": "538ca3bd",
   "metadata": {},
   "outputs": [
    {
     "name": "stdout",
     "output_type": "stream",
     "text": [
      "Original Array:\n",
      "[[0.47450764 0.69134055 0.60354846 0.7398962  0.31457377]\n",
      " [0.2402443  0.34606967 0.97456864 0.12070918 0.37579873]\n",
      " [0.81286357 0.28300977 0.58250695 0.7860859  0.81084228]\n",
      " [0.69707308 0.89430249 0.83913498 0.77989181 0.33169011]\n",
      " [0.35817913 0.59385652 0.3511043  0.99857647 0.43108979]]\n",
      "After normalization:\n",
      "[[0.47450764 0.69134055 0.60354846 0.7398962  0.31457377]\n",
      " [0.2402443  0.34606967 0.97456864 0.12070918 0.37579873]\n",
      " [0.81286357 0.28300977 0.58250695 0.7860859  0.81084228]\n",
      " [0.69707308 0.89430249 0.83913498 0.77989181 0.33169011]\n",
      " [0.35817913 0.59385652 0.3511043  0.99857647 0.43108979]]\n",
      "[[0.40302043 0.65002009 0.55001397 0.705331   0.22083588]\n",
      " [0.13616536 0.25671362 0.97265209 0.         0.29057871]\n",
      " [0.78844991 0.18488055 0.52604508 0.75794682 0.78614741]\n",
      " [0.65655014 0.88121897 0.81837631 0.75089098 0.24033351]\n",
      " [0.2705078  0.53897365 0.26244868 1.         0.35356211]]\n"
     ]
    }
   ],
   "source": [
    "#Normalize a 5x5 random matrix\n",
    "x = np.random.random((5,5))\n",
    "print(\"Original Array:\")\n",
    "print(x)\n",
    "print(\"After normalization:\")\n",
    "print(x)\n",
    "xmax, xmin = x.max(), x.min()\n",
    "x = (x - xmin)/(xmax - xmin)\n",
    "print(x)"
   ]
  },
  {
   "cell_type": "code",
   "execution_count": 7,
   "id": "0ea0d77e",
   "metadata": {},
   "outputs": [
    {
     "name": "stdout",
     "output_type": "stream",
     "text": [
      "Array1:  [ 0 10 20 40 60]\n",
      "Array2:  [10, 30, 40]\n",
      "Common values between two arrays:\n",
      "[10 40]\n"
     ]
    }
   ],
   "source": [
    "#How to find common values between two arrays? \n",
    "import numpy as np\n",
    "array1 = np.array([0, 10, 20, 40, 60])\n",
    "print(\"Array1: \",array1)\n",
    "array2 = [10, 30, 40]\n",
    "print(\"Array2: \",array2)\n",
    "print(\"Common values between two arrays:\")\n",
    "print(np.intersect1d(array1, array2))\n"
   ]
  },
  {
   "cell_type": "code",
   "execution_count": 8,
   "id": "a368f96c",
   "metadata": {},
   "outputs": [
    {
     "name": "stdout",
     "output_type": "stream",
     "text": [
      "Random Vector:\n",
      "[0.04524014 0.86365961 0.6745412  0.44337873 0.16456196 0.05979823\n",
      " 0.87394117 0.22112475 0.34597212 0.8035032 ]\n",
      "Sort Vestor:\n",
      "[0.04524014 0.05979823 0.16456196 0.22112475 0.34597212 0.44337873\n",
      " 0.6745412  0.8035032  0.86365961 0.87394117]\n"
     ]
    }
   ],
   "source": [
    "#Create a random vector of size 10 and sort it\n",
    "x = np.random.random(10)\n",
    "sort = np.sort(x)\n",
    "print(\"Random Vector:\")\n",
    "print(x)\n",
    "print(\"Sort Vestor:\")\n",
    "print(sort)"
   ]
  },
  {
   "cell_type": "code",
   "execution_count": 9,
   "id": "82b90f1a",
   "metadata": {},
   "outputs": [
    {
     "name": "stdout",
     "output_type": "stream",
     "text": [
      "[0.17123594 0.50074994 0.57964543 0.50478901 0.38182468 0.50200623\n",
      " 0.29745592 0.041453   0.08439518 0.        ]\n"
     ]
    }
   ],
   "source": [
    "#Create random vector of size 10 and replace the maximum value by 0\n",
    "x = np.random.random(10)\n",
    "x[x.argmax()] = 0\n",
    "print(x)"
   ]
  },
  {
   "cell_type": "code",
   "execution_count": 10,
   "id": "5606548a",
   "metadata": {},
   "outputs": [
    {
     "name": "stdout",
     "output_type": "stream",
     "text": [
      "Original Matrix:\n",
      "[[2 3 3]\n",
      " [4 5 6]\n",
      " [7 8 9]]\n",
      "Row Means:\n",
      "[[2.66666667]\n",
      " [5.        ]\n",
      " [8.        ]]\n",
      "Result\n",
      "[[-0.66666667  0.33333333  0.33333333]\n",
      " [-1.          0.          1.        ]\n",
      " [-1.          0.          1.        ]]\n"
     ]
    }
   ],
   "source": [
    "# Subtract the mean of each row of a matrix \n",
    "x = np.array([[2, 3, 3],\n",
    "            [4, 5, 6],\n",
    "            [7, 8, 9]])\n",
    "row_means = np.mean(x,axis=1,keepdims=True)\n",
    "result = x - row_means\n",
    "\n",
    "print(\"Original Matrix:\")\n",
    "print(x)\n",
    "\n",
    "print(\"Row Means:\")\n",
    "print(row_means)\n",
    "\n",
    "print(\"Result\")\n",
    "print(result)"
   ]
  },
  {
   "cell_type": "code",
   "execution_count": 11,
   "id": "f6952ff0",
   "metadata": {},
   "outputs": [
    {
     "name": "stdout",
     "output_type": "stream",
     "text": [
      "[9995 9996 9997 9998 9999]\n",
      "[9995 9999 9998 9996 9997]\n"
     ]
    }
   ],
   "source": [
    "#How to get the n largest values of an array \n",
    "x = np.arange(10000)\n",
    "np.random.shuffle(x)\n",
    "y = 5\n",
    "\n",
    "print (x[np.argsort(x)[-y:]])\n",
    "print (x[np.argpartition(-x,y)[:y]])\n"
   ]
  },
  {
   "cell_type": "code",
   "execution_count": 12,
   "id": "3e2fd2ad",
   "metadata": {},
   "outputs": [
    {
     "name": "stdout",
     "output_type": "stream",
     "text": [
      "Original Matrix:\n",
      "[[0.85494229 0.52656134 0.65532067 0.63075705 0.12964374 0.58412512\n",
      "  0.40885673 0.53281187 0.66231296 0.24532593]\n",
      " [0.45555943 0.63047305 0.75737757 0.51065386 0.20030976 0.87948017\n",
      "  0.6362572  0.68544495 0.54436664 0.9350336 ]\n",
      " [0.268084   0.18109357 0.1092825  0.89721234 0.58878906 0.11886062\n",
      "  0.71125198 0.54013388 0.05187752 0.52034907]\n",
      " [0.58971938 0.1869661  0.44754467 0.53446581 0.84350808 0.37423478\n",
      "  0.57651641 0.73155449 0.22541888 0.74208919]\n",
      " [0.16553979 0.81680115 0.45845583 0.46390787 0.58478866 0.99405324\n",
      "  0.13474505 0.93463563 0.30603978 0.84515893]]\n",
      "Modified Matrix:\n",
      "[[0.85494229 0.52656134 0.65532067 0.63075705 0.12964374 0.58412512\n",
      "  0.40885673 0.53281187 0.66231296 0.24532593]\n",
      " [0.45555943 0.63047305 0.75737757 0.51065386 0.20030976 0.87948017\n",
      "  0.6362572  0.68544495 0.54436664 0.9350336 ]\n",
      " [0.268084   0.18109357 0.1092825  0.89721234 0.58878906 0.11886062\n",
      "  0.71125198 0.54013388 0.05187752 0.52034907]\n",
      " [0.58971938 0.1869661  0.44754467 0.53446581 0.84350808 0.37423478\n",
      "  0.57651641 0.73155449 0.22541888 0.74208919]\n",
      " [0.16553979 0.81680115 0.45845583 0.46390787 0.58478866 0.99405324\n",
      "  0.13474505 0.93463563 0.30603978 0.84515893]]\n"
     ]
    }
   ],
   "source": [
    "#Create a random 5*3 matrix and replace items that are larger than 4 by their squares ( Example: 6 --> 36)\n",
    "x = np.random.random((5, 10))\n",
    "modified_matrix = np.where(x > 4, x ** 2, x)\n",
    "\n",
    "print(\"Original Matrix:\")\n",
    "print(x)\n",
    "\n",
    "print(\"Modified Matrix:\")\n",
    "print(modified_matrix)"
   ]
  }
 ],
 "metadata": {
  "kernelspec": {
   "display_name": "Python 3 (ipykernel)",
   "language": "python",
   "name": "python3"
  },
  "language_info": {
   "codemirror_mode": {
    "name": "ipython",
    "version": 3
   },
   "file_extension": ".py",
   "mimetype": "text/x-python",
   "name": "python",
   "nbconvert_exporter": "python",
   "pygments_lexer": "ipython3",
   "version": "3.10.9"
  }
 },
 "nbformat": 4,
 "nbformat_minor": 5
}
