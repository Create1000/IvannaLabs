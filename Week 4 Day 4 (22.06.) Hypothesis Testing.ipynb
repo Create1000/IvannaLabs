{
 "cells": [
  {
   "cell_type": "markdown",
   "id": "8ce7a6fc",
   "metadata": {},
   "source": [
    "## Lab | Hypothesis Testing"
   ]
  },
  {
   "cell_type": "markdown",
   "id": "31f3851c",
   "metadata": {},
   "source": [
    "Instructions\n",
    "It is assumed that the mean systolic blood pressure is μ = 120 mm Hg. In the Honolulu Heart Study, a sample of n = 100 people had an average systolic blood pressure of 130.1 mm Hg with a standard deviation of 21.21 mm Hg. Is the group significantly different (with respect to systolic blood pressure!) from the regular population?\n",
    "\n",
    "Set up the hypothesis test.\n",
    "Write down all the steps followed for setting up the test.\n",
    "Calculate the test statistic by hand and also code it in Python. It should be 4.76190. What decision can you make based on this calculated value?\n",
    "Hint: here is the statistic table"
   ]
  },
  {
   "cell_type": "markdown",
   "id": "e77f1a56",
   "metadata": {},
   "source": [
    "μ = 120 mm Hg\n",
    "\n",
    "\n",
    "n = 100\n",
    "μ = 130,1 mm Hg\n",
    "σ = 21.21 mm Hg"
   ]
  },
  {
   "cell_type": "code",
   "execution_count": 2,
   "id": "7b7dfea8",
   "metadata": {},
   "outputs": [],
   "source": [
    "import numpy as np\n",
    "import pandas as pd\n",
    "import scipy.stats as stats\n",
    "import matplotlib.pyplot as plt\n",
    "import seaborn as sns\n",
    "\n",
    "%matplotlib inline"
   ]
  },
  {
   "cell_type": "code",
   "execution_count": 3,
   "id": "603eb99c",
   "metadata": {},
   "outputs": [],
   "source": [
    "# Given data\n",
    "population_mean = 120\n",
    "sample_mean = 130.1\n",
    "sample_std = 21.21\n",
    "sample_size = 100"
   ]
  },
  {
   "cell_type": "code",
   "execution_count": 6,
   "id": "c2f36fe7",
   "metadata": {},
   "outputs": [
    {
     "name": "stdout",
     "output_type": "stream",
     "text": [
      "4.761904761904759\n"
     ]
    }
   ],
   "source": [
    "# Calculate the t-score\n",
    "t = (sample_mean - population_mean) / (sample_std / (sample_size ** 0.5))\n",
    "print(t)"
   ]
  },
  {
   "cell_type": "code",
   "execution_count": 7,
   "id": "43b29d88",
   "metadata": {},
   "outputs": [
    {
     "name": "stdout",
     "output_type": "stream",
     "text": [
      "99\n"
     ]
    }
   ],
   "source": [
    "# Degrees of freedom\n",
    "df = sample_size - 1\n",
    "print(df)"
   ]
  },
  {
   "cell_type": "code",
   "execution_count": 9,
   "id": "0b95d8e3",
   "metadata": {},
   "outputs": [
    {
     "name": "stdout",
     "output_type": "stream",
     "text": [
      "6.562701817092176e-06\n"
     ]
    }
   ],
   "source": [
    "# Calculate the p-value\n",
    "p_value = 2 * (1 - stats.t.cdf(abs(t), df=df))\n",
    "print(p_value)"
   ]
  },
  {
   "cell_type": "code",
   "execution_count": 12,
   "id": "39cb8728",
   "metadata": {},
   "outputs": [],
   "source": [
    "# Set significance level\n",
    "alpha = 0.05"
   ]
  },
  {
   "cell_type": "code",
   "execution_count": 13,
   "id": "5b426e6d",
   "metadata": {},
   "outputs": [
    {
     "name": "stdout",
     "output_type": "stream",
     "text": [
      "Reject the null hypothesis.\n",
      "The group is significantly different from the regular population with respect to systolic blood pressure.\n"
     ]
    }
   ],
   "source": [
    "# Make the decision based on the p-value and significance level\n",
    "if p_value < alpha:\n",
    "    print(\"Reject the null hypothesis.\")\n",
    "    print(\"The group is significantly different from the regular population with respect to systolic blood pressure.\")\n",
    "else:\n",
    "    print(\"Fail to reject the null hypothesis.\")\n",
    "    print(\"There is not enough evidence to conclude that the group is significantly different from the regular population with respect to systolic blood pressure.\")\n"
   ]
  }
 ],
 "metadata": {
  "kernelspec": {
   "display_name": "Python 3 (ipykernel)",
   "language": "python",
   "name": "python3"
  },
  "language_info": {
   "codemirror_mode": {
    "name": "ipython",
    "version": 3
   },
   "file_extension": ".py",
   "mimetype": "text/x-python",
   "name": "python",
   "nbconvert_exporter": "python",
   "pygments_lexer": "ipython3",
   "version": "3.10.9"
  }
 },
 "nbformat": 4,
 "nbformat_minor": 5
}
